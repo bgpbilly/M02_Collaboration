{
 "cells": [
  {
   "cell_type": "code",
   "execution_count": null,
   "id": "d75c9906-2c0e-4540-9b32-c703f7254db6",
   "metadata": {
    "vscode": {
     "languageId": "python"
    }
   },
   "outputs": [],
   "source": [
    "#4.1\n",
    "import random\n",
    "\n",
    "\n",
    "# Choose a random number between 1 and 10 for secret\n",
    "secret = random.randint(1, 10)\n",
    "\n",
    "#Loop until the number is guessed correctly\n",
    "while True:\n",
    "    # get the guess from user\n",
    "    guess = int(input(\"Enter your guess (between 1 and 10):\"))\n",
    "\n",
    "    # Conditions\n",
    "    if guess < secret:\n",
    "        print(\"too low\")\n",
    "    elif guess > secret:\n",
    "        print(\"too high\")\n",
    "    else:\n",
    "        print(\"just right\")\n",
    "        break\n",
    "\n",
    "# Print all values\n",
    "print(f\"Secret: {secret}, Guess: {guess}\")"
   ]
  },
  {
   "cell_type": "code",
   "execution_count": null,
   "id": "ed380175-0300-42de-8626-54d40935d6a9",
   "metadata": {
    "vscode": {
     "languageId": "python"
    }
   },
   "outputs": [],
   "source": [
    "#4.2\n",
    "\n",
    "# Assign True or False to the variables small and green\n",
    "small = True\n",
    "green = True\n",
    "\n",
    "# List of possible combinations of small and green\n",
    "combinations = [(True, True), (True, False), (False, True), (False, False)]\n",
    "\n",
    "# Loop to get user input for fruit/vegetable and print the matching statements\n",
    "while True:\n",
    "    # Get user input for fruit/vegetable\n",
    "    fruit_vegetable = input(\"Enter a fruit/vegetable (cherry, pea, watermelon, pumpkin) or 'exit' to stop: \").lower()\n",
    "    \n",
    "    if fruit_vegetable != \"cherry, pea watermelon, pumpkin, or exit\":\n",
    "        print(\"Try again\")\n",
    "\n",
    "    if fruit_vegetable == 'exit':\n",
    "        break\n",
    "    \n",
    "    # Assign values to small and green based on user input\n",
    "    if fruit_vegetable == 'cherry':\n",
    "        small = True\n",
    "        green = False\n",
    "    elif fruit_vegetable == 'pea':\n",
    "        small = True\n",
    "        green = True\n",
    "    elif fruit_vegetable == 'watermelon':\n",
    "        small = False\n",
    "        green = True\n",
    "    elif fruit_vegetable == 'pumpkin':\n",
    "        small = False\n",
    "        green = False\n",
    "    else:\n",
    "        print(\"Invalid input. Please enter one of the specified fruits/vegetables.\")\n",
    "        continue\n",
    "    \n",
    "    # Conditional tests to print the matching fruit/vegetable\n",
    "    if small and green:\n",
    "        print(\"A pea is small and green.\")\n",
    "    elif small and not green:\n",
    "        print(\"A cherry is small but not green.\")\n",
    "    elif not small and green:\n",
    "        print(\"A watermelon is green but not small.\")\n",
    "    else:\n",
    "        print(\"A pumpkin is neither green or small.\")"
   ]
  },
  {
   "cell_type": "code",
   "execution_count": null,
   "id": "3d21f607-4529-4fe1-913d-f3f02d7277c3",
   "metadata": {
    "vscode": {
     "languageId": "python"
    }
   },
   "outputs": [],
   "source": [
    "#6.1\n",
    "\n",
    "# List \n",
    "values = [3, 2, 1, 0]\n",
    "\n",
    "# Use a for loop to print the values\n",
    "for value in values:\n",
    "    print(value)"
   ]
  },
  {
   "cell_type": "code",
   "execution_count": null,
   "id": "aabbace2-ea09-43b8-933d-76592ffa8891",
   "metadata": {
    "vscode": {
     "languageId": "python"
    }
   },
   "outputs": [],
   "source": [
    "#6.2\n",
    "\n",
    "# Assign variables\n",
    "guess_me = 7\n",
    "number = 1\n",
    "\n",
    "# While loop to compare number with guess_me\n",
    "while True:\n",
    "    if number < guess_me:\n",
    "        print('too low')\n",
    "    elif number == guess_me:\n",
    "        print('found it!')\n",
    "        break\n",
    "    else:\n",
    "        print('oops')\n",
    "        break\n",
    "    \n",
    "    # Increment number at the end of the loop\n",
    "    number += 1"
   ]
  },
  {
   "cell_type": "code",
   "execution_count": null,
   "id": "7462cf07-8c87-4486-9e87-5a179eac9ea0",
   "metadata": {
    "vscode": {
     "languageId": "python"
    }
   },
   "outputs": [],
   "source": [
    "#6.3\n",
    "\n",
    "# Assign the value to the variable guess_me\n",
    "guess_me = 5\n",
    "\n",
    "# Use a for loop to iterate a variable called number over range(10)\n",
    "for number in range(10):\n",
    "    # Get user input for the guess\n",
    "    user_guess = int(input(\"Enter your guess (between 0 and 9): \"))\n",
    "    \n",
    "    if user_guess < guess_me:\n",
    "        print('too low')\n",
    "    elif user_guess == guess_me:\n",
    "        print('found it!')\n",
    "        break\n",
    "    else:\n",
    "        print('oops')\n",
    "        break"
   ]
  }
 ],
 "metadata": {
  "kernelspec": {
   "display_name": "Python 3 (ipykernel)",
   "language": "python",
   "name": "python3"
  },
  "language_info": {
   "name": ""
  }
 },
 "nbformat": 4,
 "nbformat_minor": 5
}
